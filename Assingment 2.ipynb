{
 "cells": [
  {
   "cell_type": "markdown",
   "id": "960295b0",
   "metadata": {},
   "source": [
    "### Given an integer array nums of 2n integers, group these integers into n pairs (a1, b1), (a2, b2),..., (an, bn) such that the sum of min(ai, bi) for all i is maximized. Return the maximized sum.\n"
   ]
  },
  {
   "cell_type": "code",
   "execution_count": 3,
   "id": "3fe5d5d4",
   "metadata": {},
   "outputs": [],
   "source": [
    "from typing import List\n",
    "def arrayPairSum(nums: List[int]) -> int:\n",
    "    nums_sort = sorted(nums)\n",
    "    res = 0\n",
    "    i = 0\n",
    "    while i < len(nums):\n",
    "        res += nums_sort[i]\n",
    "        i += 2\n",
    "    return res"
   ]
  },
  {
   "cell_type": "markdown",
   "id": "a7e22298",
   "metadata": {},
   "source": [
    "### Alice has n candies, where the ith candy is of type candyType[i]. Alice noticed that she started to gain weight, so she visited a doctor. The doctor advised Alice to only eat n / 2 of the candies she has (n is always even). Alice likes her candies very much, and she wants to eat the maximum number of different types of candies while still following the doctor's advice. Given the integer array candyType of length n, return the maximum number of different types of candies she can eat if she only eats n / 2 of them."
   ]
  },
  {
   "cell_type": "code",
   "execution_count": 4,
   "id": "c853fda6",
   "metadata": {},
   "outputs": [],
   "source": [
    "class Solution:\n",
    "    def distributeCandies(self, candyType: List[int]) -> int:\n",
    "        candyMap = {}\n",
    "        nums = 0\n",
    "        \n",
    "        for i in candyType:\n",
    "            if i not in candyMap:\n",
    "                nums += 1\n",
    "                candyMap[i] = 1\n",
    "                \n",
    "        return len(candyType) // 2 if len(candyType) // 2 < nums else nums"
   ]
  },
  {
   "cell_type": "markdown",
   "id": "d7405e84",
   "metadata": {},
   "source": [
    "### We define a harmonious array as an array where the difference between its maximum value and its minimum value is exactly 1.Given an integer array nums, return the length of its longest harmonious subsequence among all its possible subsequences. A subsequence of an array is a sequence that can be derived from the array by deleting some or no elements without changing the order of the remaining elements."
   ]
  },
  {
   "cell_type": "code",
   "execution_count": 5,
   "id": "fd494f28",
   "metadata": {},
   "outputs": [],
   "source": [
    "class Solution:\n",
    "    def findLHS(self, nums: List[int]) -> int:\n",
    "        freq = {}\n",
    "        for num in nums:\n",
    "            freq[num] = freq.get(num, 0) + 1\n",
    "        max_length = 0\n",
    "        for num in freq:\n",
    "            if num + 1 in freq:\n",
    "                max_length = max(max_length, freq[num] + freq[num + 1])\n",
    "        return max_length"
   ]
  },
  {
   "cell_type": "markdown",
   "id": "b291bc12",
   "metadata": {},
   "source": [
    "### You have a long flowerbed in which some of the plots are planted, and some are not. However, flowers cannot be planted in adjacent plots. Given an integer array flowerbed containing 0's and 1's, where 0 means empty and 1 means not empty, and an integer n, return true if n new flowers can be planted in the flowerbed without violating the no-adjacent-flowers rule and false otherwise."
   ]
  },
  {
   "cell_type": "code",
   "execution_count": 6,
   "id": "5f3acf71",
   "metadata": {},
   "outputs": [],
   "source": [
    "class Solution:\n",
    "    def canPlaceFlowers(self, flowerbed: List[int], n: int) -> bool:\n",
    "        if n == 0:\n",
    "            return True\n",
    "        for i in range(len(flowerbed)):\n",
    "            if flowerbed[i] == 0 and (i == 0 or flowerbed[i-1] == 0) and (i == len(flowerbed)-1 or flowerbed[i+1] == 0):\n",
    "                flowerbed[i] = 1\n",
    "                n -= 1\n",
    "                if n == 0:\n",
    "                    return True\n",
    "        return False"
   ]
  },
  {
   "cell_type": "markdown",
   "id": "f69d3b00",
   "metadata": {},
   "source": [
    "### Given an integer array nums, find three numbers whose product is maximum and return the maximum product."
   ]
  },
  {
   "cell_type": "code",
   "execution_count": 7,
   "id": "5f8fa688",
   "metadata": {},
   "outputs": [],
   "source": [
    "class Solution:\n",
    "    def maximumProduct(self, nums: List[int]) -> int:\n",
    "        nums.sort()\n",
    "        return max(nums[0]*nums[1]*nums[-1],nums[-1]*nums[-2]*nums[-3])\n"
   ]
  },
  {
   "cell_type": "markdown",
   "id": "cf91770c",
   "metadata": {},
   "source": [
    "### Given an array of integers nums which is sorted in ascending order, and an integer target, write a function to search target in nums. If target exists, then return its index. Otherwise, return -1."
   ]
  },
  {
   "cell_type": "code",
   "execution_count": 8,
   "id": "1ea3f2e6",
   "metadata": {},
   "outputs": [],
   "source": [
    "class Solution:\n",
    "    def search(self, nums: List[int], target: int) -> int:\n",
    "        low = 0\n",
    "        high = len(nums)-1\n",
    "\n",
    "        while low <= high:\n",
    "            mid = (low + high) // 2 \n",
    "\n",
    "            if nums[mid] == target:\n",
    "                return mid\n",
    "            if target > nums[mid]:\n",
    "                low = mid + 1\n",
    "            else:\n",
    "                high = mid - 1\n",
    "        \n",
    "        return -1"
   ]
  },
  {
   "cell_type": "markdown",
   "id": "48655330",
   "metadata": {},
   "source": [
    "### An array is monotonic if it is either monotone increasing or monotone decreasing. An array nums is monotone increasing if for all i <= j, nums[i] <= nums[j]. An array nums is monotone decreasing if for all i <= j, nums[i] >= nums[j]. Given an integer array nums, return true if the given array is monotonic, or false otherwise."
   ]
  },
  {
   "cell_type": "code",
   "execution_count": 9,
   "id": "cd476e2b",
   "metadata": {},
   "outputs": [],
   "source": [
    "class Solution:\n",
    "    def isMonotonic(self, nums: List[int]) -> bool:\n",
    "        isIncreasing = True\n",
    "        isDecreasing = True\n",
    "        for i in range(1,len(nums)):\n",
    "            if numIncreasing = False\n",
    "            if nums[i]  > nums[i-1]:\n",
    "                isDecreasing = False\n",
    "        \n",
    "        return isDecreasing or isIncreasing"
   ]
  },
  {
   "cell_type": "markdown",
   "id": "e26b39bf",
   "metadata": {},
   "source": [
    "###  You are given an integer array nums and an integer k. In one operation, you can choose any index i where 0 <= i < nums.length and change nums[i] to nums[i] + x where x is an integer from the range [-k, k]. You can apply this operation at most once for each index i. The score of nums is the difference between the maximum and minimum elements in nums. Return the minimum score of nums after applying the mentioned operation at most once for each index in it."
   ]
  },
  {
   "cell_type": "code",
   "execution_count": 10,
   "id": "89db664b",
   "metadata": {},
   "outputs": [],
   "source": [
    "class Solution:\n",
    "    def smallestRangeI(self, A: List[int], K: int) -> int:\n",
    "\n",
    "        M, m = max(A), min(A)\n",
    "        diff, extension = M - m, 2*K\n",
    "        \n",
    "        if diff <= extension:\n",
    "            return 0\n",
    "        \n",
    "        else:\n",
    "            return diff - extension"
   ]
  },
  {
   "cell_type": "code",
   "execution_count": null,
   "id": "4c123c54",
   "metadata": {},
   "outputs": [],
   "source": []
  }
 ],
 "metadata": {
  "kernelspec": {
   "display_name": "Python 3 (ipykernel)",
   "language": "python",
   "name": "python3"
  },
  "language_info": {
   "codemirror_mode": {
    "name": "ipython",
    "version": 3
   },
   "file_extension": ".py",
   "mimetype": "text/x-python",
   "name": "python",
   "nbconvert_exporter": "python",
   "pygments_lexer": "ipython3",
   "version": "3.9.13"
  }
 },
 "nbformat": 4,
 "nbformat_minor": 5
}
