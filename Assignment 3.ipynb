{
 "cells": [
  {
   "cell_type": "markdown",
   "id": "deb392d2",
   "metadata": {},
   "source": [
    "### Given an integer array nums of length n and an integer target, find three integers in nums such that the sum is closest to the target. Return the sum of the three integers. You may assume that each input would have exactly one solution.\n"
   ]
  },
  {
   "cell_type": "code",
   "execution_count": 2,
   "id": "dac66019",
   "metadata": {},
   "outputs": [],
   "source": [
    "from typing import List\n",
    "class Solution:\n",
    "    def threeSumClosest(self, nums: List[int], target: int) -> int:\n",
    "\n",
    "        n=len(nums)\n",
    "        nums.sort()\n",
    "        diff=20001\n",
    "        val=0\n",
    "        for i in range(n):\n",
    "            a=i+1\n",
    "            b=n-1\n",
    "            while(a<b):\n",
    "                cc=nums[i]+nums[a]+nums[b]\n",
    "                kk=abs(cc-target)\n",
    "                if(kk<diff):\n",
    "                    diff=kk\n",
    "                    val=cc\n",
    "                if(cc==target):\n",
    "                    return target\n",
    "                elif(cc<target):\n",
    "                    a+=1\n",
    "                else:\n",
    "                    b-=1\n",
    "            \n",
    "        return val"
   ]
  },
  {
   "cell_type": "markdown",
   "id": "c16ea601",
   "metadata": {},
   "source": [
    "### Given an array nums of n integers, return an array of all the unique quadruplets [nums[a], nums[b], nums[c], nums[d]] such that:\n",
    "           ● 0 <= a, b, c, d < n\n",
    "           ● a, b, c, and d are distinct.\n",
    "           ● nums[a] + nums[b] + nums[c] + nums[d] == target\n",
    "\n",
    "You may return the answer in any order."
   ]
  },
  {
   "cell_type": "code",
   "execution_count": 3,
   "id": "1b298e2f",
   "metadata": {},
   "outputs": [],
   "source": [
    "class Solution:\n",
    "    def fourSum(self, nums: List[int], target: int) -> List[List[int]]:\n",
    "        ans = set()\n",
    "        nums.sort()\n",
    "        for i in range(len(nums)):\n",
    "            for j in range(i+1,len(nums)):\n",
    "                k,l = j+1,len(nums)-1\n",
    "                while k<l:\n",
    "                    s = nums[i]+nums[j]+nums[k]+nums[l]\n",
    "                    if s == target:\n",
    "                        ans.add((nums[i],nums[j],nums[k],nums[l]))\n",
    "                        l-=1\n",
    "                        k+=1\n",
    "                    elif s > target:\n",
    "                        l-=1\n",
    "                    else:\n",
    "                        k+=1\n",
    "                  \n",
    "        return ans"
   ]
  },
  {
   "cell_type": "markdown",
   "id": "6de96880",
   "metadata": {},
   "source": [
    "### A permutation of an array of integers is an arrangement of its members into a sequence or linear order.\n",
    "\n",
    "For example, for arr = [1,2,3], the following are all the permutations of arr:\n",
    "[1,2,3], [1,3,2], [2, 1, 3], [2, 3, 1], [3,1,2], [3,2,1].\n",
    "\n",
    "The next permutation of an array of integers is the next lexicographically greater\n",
    "permutation of its integer. More formally, if all the permutations of the array are\n",
    "sorted in one container according to their lexicographical order, then the next\n",
    "permutation of that array is the permutation that follows it in the sorted container.\n",
    "\n",
    "If such an arrangement is not possible, the array must be rearranged as the\n",
    "lowest possible order (i.e., sorted in ascending order).\n",
    "\n",
    "● For example, the next permutation of arr = [1,2,3] is [1,3,2].\n",
    "● Similarly, the next permutation of arr = [2,3,1] is [3,1,2].\n",
    "● While the next permutation of arr = [3,2,1] is [1,2,3] because [3,2,1] does not\n",
    "have a lexicographical larger rearrangement.\n",
    "\n",
    "Given an array of integers nums, find the next permutation of nums.\n",
    "The replacement must be in place and use only constant extra memory."
   ]
  },
  {
   "cell_type": "code",
   "execution_count": 4,
   "id": "97af6160",
   "metadata": {},
   "outputs": [],
   "source": [
    "class Solution:\n",
    "    def nextPermutation(self, nums: List[int]) -> None:\n",
    "        l=len(nums)-2\n",
    "        while l>=0:\n",
    "            if nums[l]<nums[l+1]:\n",
    "                s=len(nums)-1\n",
    "                while s>l:\n",
    "                    if nums[s]>nums[l]:\n",
    "                        nums[l],nums[s]=nums[s],nums[l] \n",
    "                        arr=(nums[:l+1]+sorted(nums[l+1:]))\n",
    "                        nums[:]=arr[:]\n",
    "                        return nums\n",
    "                    s-=1\n",
    "            l-=1\n",
    "        else:\n",
    "            nums.reverse()\n",
    "            return nums"
   ]
  },
  {
   "cell_type": "markdown",
   "id": "8d77f5fd",
   "metadata": {},
   "source": [
    "### Given a sorted array of distinct integers and a target value, return the index if the target is found. If not, return the index where it would be if it were inserted in order. You must write an algorithm with O(log n) runtime complexity."
   ]
  },
  {
   "cell_type": "code",
   "execution_count": 5,
   "id": "7cc0785b",
   "metadata": {},
   "outputs": [],
   "source": [
    "class Solution:\n",
    "    def searchInsert(self, nums, target):\n",
    "        l = 0\n",
    "        r = len(nums) - 1\n",
    "        while l <= r:\n",
    "            mid = (l + r) // 2\n",
    "            if nums[mid] < target:\n",
    "                l = mid + 1\n",
    "            elif nums[mid] > target:\n",
    "                r = mid - 1\n",
    "            else:\n",
    "                return mid\n",
    "        return l\n",
    "        "
   ]
  },
  {
   "cell_type": "markdown",
   "id": "2c0fd0d5",
   "metadata": {},
   "source": [
    "### You are given a large integer represented as an integer array digits, where each digits[i] is the ith digit of the integer. The digits are ordered from most significant to least significant in left-to-right order. The large integer does not contain any leading 0's. Increment the large integer by one and return the resulting array of digits."
   ]
  },
  {
   "cell_type": "code",
   "execution_count": 6,
   "id": "41b01794",
   "metadata": {},
   "outputs": [],
   "source": [
    "class Solution:\n",
    "    def plusOne(self, digits: List[int]) -> List[int]:\n",
    "        carry = 0\n",
    "        n = len(digits)\n",
    "        for i in reversed(range(n)):\n",
    "            val = digits[i] + carry + 1 if i == n-1 else digits[i] + carry\n",
    "            if val <= 9:\n",
    "                digits[i] = val\n",
    "                carry = 0\n",
    "            else:\n",
    "                carry = val // 10\n",
    "                val -= 10\n",
    "                digits[i] = val\n",
    "        if carry:\n",
    "            digits.insert(0, carry)\n",
    "        return digits"
   ]
  },
  {
   "cell_type": "markdown",
   "id": "2a6282f9",
   "metadata": {},
   "source": [
    "### Given a non-empty array of integers nums, every element appears twice except for one. Find that single one. You must implement a solution with a linear runtime complexity and use only constant extra space."
   ]
  },
  {
   "cell_type": "code",
   "execution_count": 7,
   "id": "03c906d1",
   "metadata": {},
   "outputs": [],
   "source": [
    "class Solution:\n",
    "  def singleNumber(self, nums: List[int]) -> int:\n",
    "    return functools.reduce(lambda x, y: x ^ y, nums, 0)"
   ]
  },
  {
   "cell_type": "markdown",
   "id": "e78856bd",
   "metadata": {},
   "source": [
    "### You are given an inclusive range [lower, upper] and a sorted unique integer array nums, where all elements are within the inclusive range. A number x is considered missing if x is in the range [lower, upper] and x is not in nums. Return the shortest sorted list of ranges that exactly covers all the missing numbers. That is, no element of nums is included in any of the ranges, and each missing number is covered by one of the ranges."
   ]
  },
  {
   "cell_type": "code",
   "execution_count": 8,
   "id": "05f37716",
   "metadata": {},
   "outputs": [],
   "source": [
    "class Solution:\n",
    "    def findMissingRanges(self, nums: List[int], lower: int, upper: int) -> List[str]:\n",
    "        def f(a, b):\n",
    "            return str(a) if a == b else f'{a}->{b}'\n",
    "\n",
    "        n = len(nums)\n",
    "        if n == 0:\n",
    "            return [f(lower, upper)]\n",
    "        ans = []\n",
    "        if nums[0] > lower:\n",
    "            ans.append(f(lower, nums[0] - 1))\n",
    "        for a, b in pairwise(nums):\n",
    "            if b - a > 1:\n",
    "                ans.append(f(a + 1, b - 1))\n",
    "        if nums[-1] < upper:\n",
    "            ans.append(f(nums[-1] + 1, upper))\n",
    "        return ans"
   ]
  },
  {
   "cell_type": "markdown",
   "id": "1edcf66c",
   "metadata": {},
   "source": [
    "### Given an array of meeting time intervals where intervals[i] = [starti, endi], determine if a person could attend all meetings."
   ]
  },
  {
   "cell_type": "code",
   "execution_count": null,
   "id": "ef33f021",
   "metadata": {},
   "outputs": [],
   "source": [
    "def canAttendMeetings(intervals):\n",
    "        \n",
    "    intervals.sort(key=lambda a: a.start)\n",
    "    for i in range(len(intervals)-1):\n",
    "        if intervals[i].end > intervals[i+1].start:\n",
    "            return False\n",
    "    return True"
   ]
  }
 ],
 "metadata": {
  "kernelspec": {
   "display_name": "Python 3 (ipykernel)",
   "language": "python",
   "name": "python3"
  },
  "language_info": {
   "codemirror_mode": {
    "name": "ipython",
    "version": 3
   },
   "file_extension": ".py",
   "mimetype": "text/x-python",
   "name": "python",
   "nbconvert_exporter": "python",
   "pygments_lexer": "ipython3",
   "version": "3.9.13"
  }
 },
 "nbformat": 4,
 "nbformat_minor": 5
}
