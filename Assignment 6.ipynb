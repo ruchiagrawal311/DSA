{
 "cells": [
  {
   "cell_type": "markdown",
   "id": "b10b7caf",
   "metadata": {},
   "source": [
    "### A permutation perm of n + 1 integers of all the integers in the range [0, n] can be represented as a string s of length n where:\n",
    "\n",
    "- s[i] == 'I' if perm[i] < perm[i + 1], and\n",
    "- s[i] == 'D' if perm[i] > perm[i + 1].\n",
    "\n",
    "Given a string s, reconstruct the permutation perm and return it. If there are multiple valid permutations perm, return **any of them**."
   ]
  },
  {
   "cell_type": "code",
   "execution_count": 4,
   "id": "798b5f8b",
   "metadata": {},
   "outputs": [],
   "source": [
    "from typing import List\n",
    "class Solution:\n",
    "    def diStringMatch(self, s: str) -> List[int]:\n",
    "        ans = []\n",
    "        low = 0\n",
    "        high = len(s)\n",
    "        for c in s:\n",
    "            if c == 'I':\n",
    "                ans.append(low)\n",
    "                low+=1\n",
    "            else:\n",
    "                ans.append(high)\n",
    "                high-=1\n",
    "        return ans + [high]"
   ]
  },
  {
   "cell_type": "markdown",
   "id": "97030dcd",
   "metadata": {},
   "source": [
    "### You are given an m x n integer matrix matrix with the following two properties:\n",
    "\n",
    "- Each row is sorted in non-decreasing order.\n",
    "- The first integer of each row is greater than the last integer of the previous row.\n",
    "\n",
    "Given an integer target, return true *if* target *is in* matrix *or* false *otherwise*.\n",
    "\n",
    "You must write a solution in O(log(m * n)) time complexity."
   ]
  },
  {
   "cell_type": "code",
   "execution_count": 6,
   "id": "327b34a5",
   "metadata": {},
   "outputs": [],
   "source": [
    "class Solution:\n",
    "    def searchMatrix(self, matrix: List[List[int]], target: int) -> bool:\n",
    "        R, C = len(matrix), len(matrix[0])\n",
    "        l, r = 0, R*C-1\n",
    "\n",
    "        while l <= r:\n",
    "            mid = l + (r-l)//2\n",
    "            row, col = mid // C, mid % C\n",
    "            if matrix[row][col] < target:\n",
    "                l = mid + 1\n",
    "            elif matrix[row][col] > target:\n",
    "                r = mid - 1\n",
    "            else:\n",
    "                return True\n",
    "\n",
    "        return False"
   ]
  },
  {
   "cell_type": "markdown",
   "id": "05cd0117",
   "metadata": {},
   "source": [
    "### Given an array of integers arr, return *true if and only if it is a valid mountain array*.\n",
    "\n",
    "Recall that arr is a mountain array if and only if:\n",
    "\n",
    "- arr.length >= 3\n",
    "- There exists some i with 0 < i < arr.length - 1 such that:\n",
    "    - arr[0] < arr[1] < ... < arr[i - 1] < arr[i]\n",
    "    - arr[i] > arr[i + 1] > ... > arr[arr.length - 1]"
   ]
  },
  {
   "cell_type": "code",
   "execution_count": 7,
   "id": "36bd9f92",
   "metadata": {},
   "outputs": [],
   "source": [
    "class Solution:\n",
    "    def validMountainArray(self, arr: List[int]) -> bool:\n",
    "        place = arr.index(max(arr))\n",
    "        if place == 0 or place == len(arr) - 1:\n",
    "            return False\n",
    "        else:\n",
    "            value = True\n",
    "            i = 0\n",
    "            while i < place:\n",
    "                if arr[i] >= arr[i + 1]:\n",
    "                    value = False\n",
    "                    break\n",
    "                else:\n",
    "                    i += 1\n",
    "            i = place + 1\n",
    "            if value:\n",
    "                while i < len(arr):\n",
    "                    if arr[i - 1] <= arr[i]:\n",
    "                        print(i)\n",
    "                        return False\n",
    "                    else:\n",
    "                        i += 1\n",
    "            else:\n",
    "                return False\n",
    "            return True"
   ]
  },
  {
   "cell_type": "markdown",
   "id": "c3ee393e",
   "metadata": {},
   "source": [
    "### Given a binary array nums, return the maximum length of a contiguous subarray with an equal number of 0 and 1."
   ]
  },
  {
   "cell_type": "code",
   "execution_count": 8,
   "id": "439e37d3",
   "metadata": {},
   "outputs": [],
   "source": [
    "def findMaxLength(self, nums: List[int]) -> int:\n",
    "        count = 0\n",
    "        map = { 0: -1}\n",
    "        max_length = 0\n",
    "        \n",
    "        for i, number in enumerate( nums ):\n",
    "            if number:\n",
    "                count += 1\n",
    "            else:\n",
    "                count -= 1    \n",
    "            \n",
    "            if count in map:\n",
    "                max_length = max( max_length, ( i - map[count] ) )  \n",
    "            else:\n",
    "                map[ count ] = i\n",
    "                \n",
    "        return max_length"
   ]
  },
  {
   "cell_type": "markdown",
   "id": "bc5fb8f2",
   "metadata": {},
   "source": [
    "### The **product sum** of two equal-length arrays a and b is equal to the sum of a[i] * b[i] for all 0 <= i < a.length (**0-indexed**).\n",
    "\n",
    "- For example, if a = [1,2,3,4] and b = [5,2,3,1], the **product sum** would be 1*5 + 2*2 + 3*3 + 4*1 = 22.\n",
    "\n",
    "Given two arrays nums1 and nums2 of length n, return *the **minimum product sum** if you are allowed to **rearrange** the **order** of the elements in* nums1."
   ]
  },
  {
   "cell_type": "code",
   "execution_count": 9,
   "id": "2b8c12b5",
   "metadata": {},
   "outputs": [],
   "source": [
    "class Solution:\n",
    "    def minProductSum(self, nums1: List[int], nums2: List[int]) -> int:\n",
    "        nums1.sort()\n",
    "        nums2.sort()\n",
    "        n, result = len(nums1), 0\n",
    "        for i in range(n):\n",
    "            result += nums1[i] * nums2[n - i - 1]\n",
    "        return result"
   ]
  },
  {
   "cell_type": "markdown",
   "id": "d377eee4",
   "metadata": {},
   "source": [
    "### An integer array original is transformed into a **doubled** array changed by appending **twice the value** of every element in original, and then randomly **shuffling** the resulting array.\n",
    "\n",
    "Given an array changed, return original *if* changed *is a **doubled** array. If* changed *is not a **doubled** array, return an empty array. The elements in* original *may be returned in **any** order*."
   ]
  },
  {
   "cell_type": "code",
   "execution_count": 10,
   "id": "4a3fcb9d",
   "metadata": {},
   "outputs": [],
   "source": [
    "class Solution:\n",
    "    def findOriginalArray(self, changed):\n",
    "        cnt, ans = Counter(changed), []\n",
    "        if len(changed) % 2: return []\n",
    "        \n",
    "        for x in sorted(cnt.keys()):\n",
    "            if cnt[x] > cnt[x * 2]: return []\n",
    "            # handle cases like [0,0,0,0]\n",
    "            if x == 0:\n",
    "                if cnt[x] % 2:\n",
    "                    return []\n",
    "                else: \n",
    "                    ans += [0] * (cnt[x] // 2)\n",
    "            else:\n",
    "                ans += [x] * cnt[x]\n",
    "            cnt[2 * x] -= cnt[x]\n",
    "        return ans"
   ]
  },
  {
   "cell_type": "markdown",
   "id": "2db6b739",
   "metadata": {},
   "source": [
    "### Given a positive integer n, generate an n x n matrix filled with elements from 1 to n2 in spiral order."
   ]
  },
  {
   "cell_type": "code",
   "execution_count": 11,
   "id": "238c4e5d",
   "metadata": {},
   "outputs": [],
   "source": [
    "def generateMatrix(n: int) -> List[List[int]]:\n",
    "    matrix = [[0] * n for _ in range(n)]\n",
    "    top = 0\n",
    "    bottom = n - 1\n",
    "    left = 0\n",
    "    right = n - 1\n",
    "    num = 1\n",
    "    while top <= bottom and left <= right:\n",
    "        for i in range(left, right + 1):\n",
    "            matrix[top][i] = num\n",
    "            num += 1\n",
    "        top += 1\n",
    "        for i in range(top, bottom + 1):\n",
    "            matrix[i][right] = num\n",
    "            num += 1\n",
    "        right -= 1\n",
    "        if top <= bottom:\n",
    "            for i in range(right, left - 1, -1):\n",
    "                matrix[bottom][i] = num\n",
    "                num += 1\n",
    "            bottom -= 1\n",
    "        if left <= right:\n",
    "            for i in range(bottom, top - 1, -1):\n",
    "                matrix[i][left] = num\n",
    "                num += 1\n",
    "            left += 1\n",
    "    return matrix"
   ]
  },
  {
   "cell_type": "markdown",
   "id": "7904c472",
   "metadata": {},
   "source": [
    "### Given two sparse matrices mat1 of size m x k and mat2 of size k x n, return the result of mat1 x mat2. You may assume that multiplication is always possible."
   ]
  },
  {
   "cell_type": "code",
   "execution_count": 12,
   "id": "93cc88ff",
   "metadata": {},
   "outputs": [],
   "source": [
    "class Solution:\n",
    "    def multiply(self, mat1: List[List[int]], mat2: List[List[int]]) -> List[List[int]]:\n",
    "        r1, c1, c2 = len(mat1), len(mat1[0]), len(mat2[0])\n",
    "        res = [[0] * c2 for _ in range(r1)]\n",
    "        for i in range(r1):\n",
    "            for j in range(c2):\n",
    "                for k in range(c1):\n",
    "                    res[i][j] += mat1[i][k] * mat2[k][j]\n",
    "        return res"
   ]
  },
  {
   "cell_type": "code",
   "execution_count": null,
   "id": "f6e2cab0",
   "metadata": {},
   "outputs": [],
   "source": []
  }
 ],
 "metadata": {
  "kernelspec": {
   "display_name": "Python 3 (ipykernel)",
   "language": "python",
   "name": "python3"
  },
  "language_info": {
   "codemirror_mode": {
    "name": "ipython",
    "version": 3
   },
   "file_extension": ".py",
   "mimetype": "text/x-python",
   "name": "python",
   "nbconvert_exporter": "python",
   "pygments_lexer": "ipython3",
   "version": "3.9.13"
  }
 },
 "nbformat": 4,
 "nbformat_minor": 5
}
