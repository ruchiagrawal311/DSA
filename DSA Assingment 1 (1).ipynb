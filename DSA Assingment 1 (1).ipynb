{
 "cells": [
  {
   "cell_type": "code",
   "execution_count": 24,
   "id": "454423d8",
   "metadata": {},
   "outputs": [],
   "source": [
    "## Q1\n",
    "\n",
    "from typing import List\n",
    "class Solution:\n",
    "    def twoSum(self, nums: List[int], target: int) -> List[int]:\n",
    "        numToIndex = {}\n",
    "        for i in range(len(nums)):\n",
    "            if target - nums[i] in numToIndex:\n",
    "                return [numToIndex[target - nums[i]], i]\n",
    "            numToIndex[nums[i]] =i\n",
    "        return []\n",
    "    "
   ]
  },
  {
   "cell_type": "code",
   "execution_count": 25,
   "id": "a5cfd547",
   "metadata": {},
   "outputs": [],
   "source": [
    "## Q2\n",
    "class Solution:\n",
    "    def removeElement(self, nums: List[int], val: int) -> int:\n",
    "        j=0\n",
    "        for v in nums:\n",
    "            if v!=val:\n",
    "                nums[j] = v\n",
    "                j+=1\n",
    "        return j"
   ]
  },
  {
   "cell_type": "code",
   "execution_count": 27,
   "id": "7a04f031",
   "metadata": {},
   "outputs": [],
   "source": [
    "## Q3\n",
    "class Solution:\n",
    "    def searchInsert(nums, target):\n",
    "       \n",
    "        start = 0\n",
    "        end = len(nums) - 1\n",
    "        \n",
    "        \n",
    "        while (start <= end):\n",
    "            \n",
    "            mid = (start + end)/2\n",
    "             \n",
    "            # if target value is found\n",
    "            if nums[mid] == target:\n",
    "                return mid\n",
    "            \n",
    "            # If target value is greater then mid elements's value\n",
    "            elif nums[mid] < target:\n",
    "                start = mid + 1\n",
    "                \n",
    "            # otherwise target value is less, \n",
    "            else:\n",
    "                end = mid -1\n",
    "        # Return the insertion position\n",
    "        return start"
   ]
  },
  {
   "cell_type": "code",
   "execution_count": null,
   "id": "64adf289",
   "metadata": {},
   "outputs": [],
   "source": [
    "## Q4\n",
    "class Solution:\n",
    "    def plusOne(self, digits: List[int]) -> List[int]:\n",
    "        n = len(digits)\n",
    "        digits[n-1] += 1\n",
    "        for i in range(n-1, 0, -1):\n",
    "            if digits[i] == 10:\n",
    "                digits[i] = 0\n",
    "                digits[i-1] += 1\n",
    "            else:\n",
    "                break\n",
    "        if digits[0] == 10:\n",
    "            digits[0] = 0\n",
    "            digits.insert(0, 1)\n",
    "        return digits\n",
    "\n",
    "\n"
   ]
  },
  {
   "cell_type": "code",
   "execution_count": null,
   "id": "584fb146",
   "metadata": {},
   "outputs": [],
   "source": [
    "## Q5\n",
    "class Solution:\n",
    "    def merge(self, nums1, m, nums2, n):\n",
    "        i = m - 1\n",
    "        j = n - 1\n",
    "        k = m + n - 1\n",
    "        \n",
    "        while j >= 0 and i >= 0:\n",
    "            if nums1[i] > nums2[j]:\n",
    "                nums1[k] = nums1[i]\n",
    "                i -= 1\n",
    "            else:\n",
    "                nums1[k] = nums2[j]\n",
    "                j -= 1\n",
    "            k -= 1\n",
    "\n"
   ]
  },
  {
   "cell_type": "code",
   "execution_count": 28,
   "id": "c16974d7",
   "metadata": {},
   "outputs": [],
   "source": [
    "## Q6\n",
    "class Solution:\n",
    "    def containsDuplicate(self, nums: List[int]) -> bool:\n",
    "        # Create an empty hash set\n",
    "        s = set()\n",
    "        # Iterate over the array\n",
    "        for num in nums:\n",
    "            # If an element is already in the hash set then return True\n",
    "            if num in s:\n",
    "                return True\n",
    "            # Otherwise, add the element to the hash set\n",
    "            s.add(num)\n",
    "        # If we finish iterating over the array and have not found a duplicate then return False\n",
    "        return False"
   ]
  },
  {
   "cell_type": "code",
   "execution_count": 29,
   "id": "beb407ac",
   "metadata": {},
   "outputs": [],
   "source": [
    "## Q7\n",
    "class Solution:\n",
    "    def moveZeroes(self, nums: List[int]) -> None:\n",
    "        zero_pos = 0\n",
    "        for i in range(len(nums)):\n",
    "            if nums[i] != 0:\n",
    "                nums[i], nums[zero_pos] = nums[zero_pos], nums[i]\n",
    "                zero_pos += 1   \n",
    "\n"
   ]
  },
  {
   "cell_type": "code",
   "execution_count": null,
   "id": "f9ce991d",
   "metadata": {},
   "outputs": [],
   "source": [
    "## Q8\n",
    "def findErrorNums(self, nums: List[int]) -> List[int]:\n",
    "        length=len(nums) \n",
    "        sum_nums = length*(length+1)//2 \n",
    "        repetition = sum(nums) - sum(set(nums))\n",
    "        loss = sum_nums - sum(set(nums))\n",
    "        return [repetition,loss]\n",
    "        \n",
    "       "
   ]
  }
 ],
 "metadata": {
  "kernelspec": {
   "display_name": "Python 3 (ipykernel)",
   "language": "python",
   "name": "python3"
  },
  "language_info": {
   "codemirror_mode": {
    "name": "ipython",
    "version": 3
   },
   "file_extension": ".py",
   "mimetype": "text/x-python",
   "name": "python",
   "nbconvert_exporter": "python",
   "pygments_lexer": "ipython3",
   "version": "3.9.13"
  }
 },
 "nbformat": 4,
 "nbformat_minor": 5
}
